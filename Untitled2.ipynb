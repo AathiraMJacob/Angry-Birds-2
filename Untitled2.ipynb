{
  "nbformat": 4,
  "nbformat_minor": 0,
  "metadata": {
    "colab": {
      "name": "Untitled2.ipynb",
      "provenance": [],
      "authorship_tag": "ABX9TyMB5Yhk1wdGWYjitEFatbDv",
      "include_colab_link": true
    },
    "kernelspec": {
      "name": "python3",
      "display_name": "Python 3"
    },
    "language_info": {
      "name": "python"
    }
  },
  "cells": [
    {
      "cell_type": "markdown",
      "metadata": {
        "id": "view-in-github",
        "colab_type": "text"
      },
      "source": [
        "<a href=\"https://colab.research.google.com/github/AathiraMJacob/Angry-Birds-2/blob/main/Untitled2.ipynb\" target=\"_parent\"><img src=\"https://colab.research.google.com/assets/colab-badge.svg\" alt=\"Open In Colab\"/></a>"
      ]
    },
    {
      "cell_type": "code",
      "execution_count": null,
      "metadata": {
        "id": "PrZv-bzGbgxG"
      },
      "outputs": [],
      "source": [
        "class Atm(object):\n",
        "    def __init__(self,cardNumber,pinNumber,expiryDate):\n",
        "        self.pinNumber=pinNumber\n",
        "        self.cardNumber=cardNumber\n",
        "        self.expiryDate=expiryDate\n",
        "      \n",
        "    def cashWithdrawed(self):\n",
        "        print('cashWithdrawed')\n",
        "    def BalanceEnquiry(self):\n",
        "        print('BalanceEnquired')\n",
        "    def cashDeposited(self):\n",
        "        print('cashDeposited')\n",
        "\n",
        "person1=Atm('8073381134679','382','12/23')\n",
        "\n",
        "print(person1.cardNumber)\n",
        "print(person1.pinNumber)\n",
        "print(person1.expiryDate)\n",
        "\n",
        "person1.cashWithdrawed()\n",
        "person1.BalanceEnquiry()\n",
        "person1.cashDeposited()"
      ]
    }
  ]
}